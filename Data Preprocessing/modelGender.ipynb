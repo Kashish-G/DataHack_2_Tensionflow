{
 "cells": [
  {
   "cell_type": "code",
   "execution_count": 12,
   "metadata": {},
   "outputs": [],
   "source": [
    "import numpy as np\n",
    "import pandas as pd\n",
    "import tensorflow as tf\n",
    "from tensorflow import keras\n",
    "from tensorflow.keras.layers import Embedding, LSTM, Dense, Dropout\n",
    "from tensorflow.keras.preprocessing.text import Tokenizer\n",
    "from tensorflow.keras.preprocessing.sequence import pad_sequences\n",
    "import pickle"
   ]
  },
  {
   "cell_type": "code",
   "execution_count": 8,
   "metadata": {},
   "outputs": [],
   "source": [
    "# Sample data with names and gender labels\n",
    "data = pd.read_csv(r'C:\\Users\\a21ma\\OneDrive\\Desktop\\Datahack\\DataHack_2_Tensionflow\\Gender_Data.csv')\n",
    "df = pd.DataFrame(data)"
   ]
  },
  {
   "cell_type": "code",
   "execution_count": 9,
   "metadata": {},
   "outputs": [],
   "source": [
    "# Preprocessing\n",
    "# Map gender labels to numerical values\n",
    "gender_mapping = {'male': 0, 'female': 1, 'unknown': 2}\n",
    "# df['Gender'] = df['Gender'].map(gender_mapping)"
   ]
  },
  {
   "cell_type": "code",
   "execution_count": 10,
   "metadata": {},
   "outputs": [],
   "source": [
    "# Tokenize the names\n",
    "tokenizer = Tokenizer(char_level=True)  # Character-level tokenizer\n",
    "tokenizer.fit_on_texts(df['Name'])\n",
    "X = tokenizer.texts_to_sequences(df['Name'])\n",
    "X = pad_sequences(X)"
   ]
  },
  {
   "cell_type": "code",
   "execution_count": 13,
   "metadata": {},
   "outputs": [],
   "source": [
    "with open('tokenizer.pkl', 'wb') as file:\n",
    "    pickle.dump(tokenizer, file)"
   ]
  },
  {
   "cell_type": "code",
   "execution_count": 11,
   "metadata": {},
   "outputs": [],
   "source": [
    "# Define the LSTM model\n",
    "model = keras.Sequential([\n",
    "    Embedding(input_dim=len(tokenizer.word_index) + 1, output_dim=32, input_length=X.shape[1]),\n",
    "    LSTM(64),\n",
    "    Dense(3, activation='softmax')  # 3 output classes: male, female, unknown\n",
    "])\n",
    "\n",
    "model.compile(loss='sparse_categorical_crossentropy', optimizer='adam', metrics=['accuracy'])"
   ]
  },
  {
   "cell_type": "code",
   "execution_count": 12,
   "metadata": {},
   "outputs": [
    {
     "name": "stdout",
     "output_type": "stream",
     "text": [
      "Epoch 1/50\n",
      "1350/1350 [==============================] - 17s 11ms/step - loss: 0.3080 - accuracy: 0.8763 - val_loss: 0.3251 - val_accuracy: 0.9126\n",
      "Epoch 2/50\n",
      "1350/1350 [==============================] - 15s 11ms/step - loss: 0.2486 - accuracy: 0.9042 - val_loss: 0.8456 - val_accuracy: 0.6192\n",
      "Epoch 3/50\n",
      "1350/1350 [==============================] - 15s 11ms/step - loss: 0.1914 - accuracy: 0.9297 - val_loss: 4.7935 - val_accuracy: 0.0399\n",
      "Epoch 4/50\n",
      "1350/1350 [==============================] - 15s 11ms/step - loss: 0.1763 - accuracy: 0.9356 - val_loss: 5.0314 - val_accuracy: 0.0263\n",
      "Epoch 5/50\n",
      "1350/1350 [==============================] - 15s 11ms/step - loss: 0.1701 - accuracy: 0.9369 - val_loss: 5.4757 - val_accuracy: 0.0173\n",
      "Epoch 6/50\n",
      "1350/1350 [==============================] - 16s 12ms/step - loss: 0.1648 - accuracy: 0.9388 - val_loss: 4.9042 - val_accuracy: 0.0313\n",
      "Epoch 7/50\n",
      "1350/1350 [==============================] - 16s 12ms/step - loss: 0.1594 - accuracy: 0.9412 - val_loss: 5.3613 - val_accuracy: 0.0167\n",
      "Epoch 8/50\n",
      "1350/1350 [==============================] - 16s 12ms/step - loss: 0.1547 - accuracy: 0.9424 - val_loss: 5.6467 - val_accuracy: 0.0226\n",
      "Epoch 9/50\n",
      "1350/1350 [==============================] - 16s 11ms/step - loss: 0.1494 - accuracy: 0.9438 - val_loss: 4.7054 - val_accuracy: 0.0375\n",
      "Epoch 10/50\n",
      "1350/1350 [==============================] - 15s 11ms/step - loss: 0.1445 - accuracy: 0.9469 - val_loss: 5.6489 - val_accuracy: 0.0228\n",
      "Epoch 11/50\n",
      "1350/1350 [==============================] - 16s 12ms/step - loss: 0.1399 - accuracy: 0.9479 - val_loss: 5.8678 - val_accuracy: 0.0229\n",
      "Epoch 12/50\n",
      "1350/1350 [==============================] - 15s 11ms/step - loss: 0.1351 - accuracy: 0.9500 - val_loss: 6.2671 - val_accuracy: 0.0205\n",
      "Epoch 13/50\n",
      "1350/1350 [==============================] - 16s 12ms/step - loss: 0.1301 - accuracy: 0.9523 - val_loss: 5.1639 - val_accuracy: 0.0461\n",
      "Epoch 14/50\n",
      "1350/1350 [==============================] - 15s 11ms/step - loss: 0.1254 - accuracy: 0.9544 - val_loss: 6.8035 - val_accuracy: 0.0218\n",
      "Epoch 15/50\n",
      "1350/1350 [==============================] - 15s 11ms/step - loss: 0.1208 - accuracy: 0.9554 - val_loss: 6.4179 - val_accuracy: 0.0292\n",
      "Epoch 16/50\n",
      "1350/1350 [==============================] - 15s 11ms/step - loss: 0.1157 - accuracy: 0.9574 - val_loss: 6.2044 - val_accuracy: 0.0383\n",
      "Epoch 17/50\n",
      "1350/1350 [==============================] - 15s 11ms/step - loss: 0.1112 - accuracy: 0.9594 - val_loss: 6.8672 - val_accuracy: 0.0267\n",
      "Epoch 18/50\n",
      "1350/1350 [==============================] - 15s 11ms/step - loss: 0.1060 - accuracy: 0.9609 - val_loss: 6.4977 - val_accuracy: 0.0504\n",
      "Epoch 19/50\n",
      "1350/1350 [==============================] - 16s 12ms/step - loss: 0.1013 - accuracy: 0.9628 - val_loss: 6.4303 - val_accuracy: 0.0565\n",
      "Epoch 20/50\n",
      "1350/1350 [==============================] - 16s 12ms/step - loss: 0.0966 - accuracy: 0.9648 - val_loss: 7.8458 - val_accuracy: 0.0312\n",
      "Epoch 21/50\n",
      "1350/1350 [==============================] - 16s 12ms/step - loss: 0.0913 - accuracy: 0.9664 - val_loss: 8.3716 - val_accuracy: 0.0295\n",
      "Epoch 22/50\n",
      "1350/1350 [==============================] - 16s 12ms/step - loss: 0.0860 - accuracy: 0.9683 - val_loss: 7.9942 - val_accuracy: 0.0427\n",
      "Epoch 23/50\n",
      "1350/1350 [==============================] - 15s 11ms/step - loss: 0.0824 - accuracy: 0.9694 - val_loss: 8.6745 - val_accuracy: 0.0358\n",
      "Epoch 24/50\n",
      "1350/1350 [==============================] - 15s 11ms/step - loss: 0.0769 - accuracy: 0.9724 - val_loss: 8.6212 - val_accuracy: 0.0493\n",
      "Epoch 25/50\n",
      "1350/1350 [==============================] - 15s 11ms/step - loss: 0.0725 - accuracy: 0.9727 - val_loss: 8.9372 - val_accuracy: 0.0477\n",
      "Epoch 26/50\n",
      "1350/1350 [==============================] - 15s 11ms/step - loss: 0.0683 - accuracy: 0.9750 - val_loss: 9.8309 - val_accuracy: 0.0332\n",
      "Epoch 27/50\n",
      "1350/1350 [==============================] - 16s 12ms/step - loss: 0.0627 - accuracy: 0.9774 - val_loss: 10.6048 - val_accuracy: 0.0313\n",
      "Epoch 28/50\n",
      "1350/1350 [==============================] - 15s 11ms/step - loss: 0.0601 - accuracy: 0.9780 - val_loss: 11.3216 - val_accuracy: 0.0266\n",
      "Epoch 29/50\n",
      "1350/1350 [==============================] - 15s 11ms/step - loss: 0.0548 - accuracy: 0.9806 - val_loss: 10.3920 - val_accuracy: 0.0472\n",
      "Epoch 30/50\n",
      "1350/1350 [==============================] - 15s 11ms/step - loss: 0.0518 - accuracy: 0.9812 - val_loss: 11.0674 - val_accuracy: 0.0383\n",
      "Epoch 31/50\n",
      "1350/1350 [==============================] - 16s 12ms/step - loss: 0.0474 - accuracy: 0.9831 - val_loss: 10.9005 - val_accuracy: 0.0574\n",
      "Epoch 32/50\n",
      "1350/1350 [==============================] - 15s 11ms/step - loss: 0.0447 - accuracy: 0.9845 - val_loss: 11.7922 - val_accuracy: 0.0419\n",
      "Epoch 33/50\n",
      "1350/1350 [==============================] - 15s 11ms/step - loss: 0.0423 - accuracy: 0.9841 - val_loss: 12.8920 - val_accuracy: 0.0367\n",
      "Epoch 34/50\n",
      "1350/1350 [==============================] - 15s 11ms/step - loss: 0.0378 - accuracy: 0.9863 - val_loss: 12.6668 - val_accuracy: 0.0390\n",
      "Epoch 35/50\n",
      "1350/1350 [==============================] - 16s 12ms/step - loss: 0.0356 - accuracy: 0.9872 - val_loss: 12.7440 - val_accuracy: 0.0469\n",
      "Epoch 36/50\n",
      "1350/1350 [==============================] - 16s 12ms/step - loss: 0.0328 - accuracy: 0.9887 - val_loss: 12.1008 - val_accuracy: 0.0713\n",
      "Epoch 37/50\n",
      "1350/1350 [==============================] - 15s 11ms/step - loss: 0.0320 - accuracy: 0.9886 - val_loss: 14.0764 - val_accuracy: 0.0363\n",
      "Epoch 38/50\n",
      "1350/1350 [==============================] - 16s 12ms/step - loss: 0.0286 - accuracy: 0.9898 - val_loss: 15.9339 - val_accuracy: 0.0251\n",
      "Epoch 39/50\n",
      "1350/1350 [==============================] - 15s 11ms/step - loss: 0.0262 - accuracy: 0.9912 - val_loss: 15.7637 - val_accuracy: 0.0357\n",
      "Epoch 40/50\n",
      "1350/1350 [==============================] - 16s 12ms/step - loss: 0.0248 - accuracy: 0.9918 - val_loss: 15.5176 - val_accuracy: 0.0331\n",
      "Epoch 41/50\n",
      "1350/1350 [==============================] - 15s 11ms/step - loss: 0.0247 - accuracy: 0.9920 - val_loss: 16.9470 - val_accuracy: 0.0295\n",
      "Epoch 42/50\n",
      "1350/1350 [==============================] - 16s 12ms/step - loss: 0.0226 - accuracy: 0.9927 - val_loss: 16.1092 - val_accuracy: 0.0434\n",
      "Epoch 43/50\n",
      "1350/1350 [==============================] - 15s 11ms/step - loss: 0.0194 - accuracy: 0.9940 - val_loss: 14.6716 - val_accuracy: 0.0694\n",
      "Epoch 44/50\n",
      "1350/1350 [==============================] - 16s 11ms/step - loss: 0.0215 - accuracy: 0.9932 - val_loss: 17.8193 - val_accuracy: 0.0359\n",
      "Epoch 45/50\n",
      "1350/1350 [==============================] - 15s 11ms/step - loss: 0.0179 - accuracy: 0.9948 - val_loss: 15.6526 - val_accuracy: 0.0606\n",
      "Epoch 46/50\n",
      "1350/1350 [==============================] - 15s 11ms/step - loss: 0.0190 - accuracy: 0.9942 - val_loss: 18.6466 - val_accuracy: 0.0322\n",
      "Epoch 47/50\n",
      "1350/1350 [==============================] - 15s 11ms/step - loss: 0.0157 - accuracy: 0.9951 - val_loss: 19.1786 - val_accuracy: 0.0357\n",
      "Epoch 48/50\n",
      "1350/1350 [==============================] - 15s 11ms/step - loss: 0.0160 - accuracy: 0.9953 - val_loss: 19.7480 - val_accuracy: 0.0272\n",
      "Epoch 49/50\n",
      "1350/1350 [==============================] - 15s 11ms/step - loss: 0.0156 - accuracy: 0.9955 - val_loss: 18.4643 - val_accuracy: 0.0449\n",
      "Epoch 50/50\n",
      "1350/1350 [==============================] - 15s 11ms/step - loss: 0.0170 - accuracy: 0.9946 - val_loss: 20.0582 - val_accuracy: 0.0380\n"
     ]
    },
    {
     "data": {
      "text/plain": [
       "<keras.src.callbacks.History at 0x2247774d990>"
      ]
     },
     "execution_count": 12,
     "metadata": {},
     "output_type": "execute_result"
    }
   ],
   "source": [
    "# Train the model\n",
    "y = df['Gender']\n",
    "model.fit(X, y, epochs=50, validation_split=0.2)"
   ]
  },
  {
   "cell_type": "code",
   "execution_count": 39,
   "metadata": {},
   "outputs": [],
   "source": [
    "\n",
    "\n",
    "# Sample model\n",
    "\n",
    "\n",
    "# Train or load your model here\n",
    "\n",
    "# Save the model to a pickle file\n",
    "with open('model.pkl', 'wb') as file:\n",
    "    pickle.dump(model, file)\n"
   ]
  },
  {
   "cell_type": "code",
   "execution_count": 38,
   "metadata": {},
   "outputs": [
    {
     "name": "stdout",
     "output_type": "stream",
     "text": [
      "1/1 [==============================] - 0s 32ms/step\n",
      "[[1.9903553e-06 9.9999797e-01 3.5257850e-15]]\n",
      "['female']\n"
     ]
    }
   ],
   "source": [
    "# Example predictions\n",
    "test_names = ['deepika']\n",
    "test_sequences = tokenizer.texts_to_sequences(test_names)\n",
    "test_sequences = pad_sequences(test_sequences, maxlen=X.shape[1])\n",
    "\n",
    "predictions = model.predict(test_sequences)\n",
    "print(predictions)\n",
    "predicted_genders = [list(gender_mapping.keys())[np.argmax(prediction)] for prediction in predictions]\n",
    "print(predicted_genders)\n"
   ]
  }
 ],
 "metadata": {
  "kernelspec": {
   "display_name": "Python 3",
   "language": "python",
   "name": "python3"
  },
  "language_info": {
   "codemirror_mode": {
    "name": "ipython",
    "version": 3
   },
   "file_extension": ".py",
   "mimetype": "text/x-python",
   "name": "python",
   "nbconvert_exporter": "python",
   "pygments_lexer": "ipython3",
   "version": "3.11.4"
  }
 },
 "nbformat": 4,
 "nbformat_minor": 2
}
