{
 "cells": [
  {
   "cell_type": "code",
   "execution_count": 2,
   "metadata": {},
   "outputs": [
    {
     "name": "stdout",
     "output_type": "stream",
     "text": [
      "Entries not in df2:\n",
      "          Lawyer Names                                        Information\n",
      "0       Anay Ahluwalia  Anay Ahluwalia has 20 years of experience in C...\n",
      "1          Arnav Dubey  Arnav Dubey has 29 years of experience in Inte...\n",
      "2        Lavanya Lalla  Lavanya Lalla has 15 years of experience in Hu...\n",
      "3        Armaan Khosla  Armaan Khosla has 11 years of experience in Co...\n",
      "4        Advik Chaudry  Advik Chaudry has 8 years of experience in Hum...\n",
      "...                ...                                                ...\n",
      "1994     Amani Mallick  Amani Mallick has 18 years of experience in En...\n",
      "1995         Zoya Shan  Zoya Shan has 18 years of experience in Family...\n",
      "1996       Ayesha Dani  Ayesha Dani has 17 years of experience in Envi...\n",
      "1997       Zaina Soman  Zaina Soman has 24 years of experience in Cons...\n",
      "1998  Dhanush Krishnan  Dhanush Krishnan has 3 years of experience in ...\n",
      "\n",
      "[1999 rows x 2 columns]\n"
     ]
    }
   ],
   "source": [
    "import pandas as pd\n",
    "\n",
    "# Load the first CSV file into a DataFrame\n",
    "df1 = pd.read_csv(r'C:\\Users\\a21ma\\OneDrive\\Desktop\\Datahack\\Datahack_Tensionflow\\LawYantra Dataset - lawyer_summaries.csv')  # Change to the path of your first CSV file\n",
    "\n",
    "# Load the second CSV file into another DataFrame\n",
    "df2 = pd.read_csv(r'C:\\Users\\a21ma\\OneDrive\\Desktop\\Datahack\\Datahack_Tensionflow\\Gender_Data.csv')  # Change to the path of your second CSV file\n",
    "\n",
    "# Choose the column of interest in both DataFrames\n",
    "column_to_check = 'Column_Name'  # Replace 'Column_Name' with the actual column name\n",
    "\n",
    "# Check if all entries in the first column are present in the second column\n",
    "# are_all_present = df1['Lawyer Names'].isin(df2['Name']).all()\n",
    "\n",
    "# if are_all_present:\n",
    "#     print(f'All entries in {column_to_check} from file1 are in file2.')\n",
    "# else:\n",
    "#     print(f'Some entries in {column_to_check} from file1 are not in file2.')\n",
    "\n",
    "entries_not_in_df2 = df1[~df1['Lawyer Names'].isin(df2['Name'])]\n",
    "\n",
    "# Display the entries that are not in df2\n",
    "print(\"Entries not in df2:\")\n",
    "print(entries_not_in_df2)\n",
    "\n"
   ]
  }
 ],
 "metadata": {
  "kernelspec": {
   "display_name": "Python 3",
   "language": "python",
   "name": "python3"
  },
  "language_info": {
   "codemirror_mode": {
    "name": "ipython",
    "version": 3
   },
   "file_extension": ".py",
   "mimetype": "text/x-python",
   "name": "python",
   "nbconvert_exporter": "python",
   "pygments_lexer": "ipython3",
   "version": "3.11.4"
  }
 },
 "nbformat": 4,
 "nbformat_minor": 2
}
